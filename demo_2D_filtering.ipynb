{
 "cells": [
  {
   "cell_type": "markdown",
   "metadata": {},
   "source": [
    "# Filtering so6 flight trajectories intersecting a given airspace (2D)"
   ]
  },
  {
   "cell_type": "code",
   "execution_count": 1,
   "metadata": {},
   "outputs": [],
   "source": [
    "%load_ext lab_black"
   ]
  },
  {
   "cell_type": "code",
   "execution_count": 2,
   "metadata": {},
   "outputs": [],
   "source": [
    "import os\n",
    "from glob import glob\n",
    "import geopandas as gpd\n",
    "from so6_filter import So6"
   ]
  },
  {
   "cell_type": "code",
   "execution_count": 3,
   "metadata": {},
   "outputs": [],
   "source": [
    "so6_folder = \"your_so6_folder\"  # folder with so6 files\n",
    "volumes_flight_path = \"your_geojson_file\"  # airspace polygons in geojson"
   ]
  },
  {
   "cell_type": "markdown",
   "metadata": {},
   "source": [
    "#### Load airspace data as a list of Shapely polygons"
   ]
  },
  {
   "cell_type": "code",
   "execution_count": 4,
   "metadata": {},
   "outputs": [],
   "source": [
    "airspace = gpd.read_file(volumes_flight_path)  # geojson file open as geodataframe\n",
    "polygons = list(airspace.geometry.unique())  # list of shapely Polygons"
   ]
  },
  {
   "cell_type": "markdown",
   "metadata": {},
   "source": [
    "#### Create a filtered so6 file for each so6 file in the so6 folder"
   ]
  },
  {
   "cell_type": "code",
   "execution_count": 5,
   "metadata": {},
   "outputs": [],
   "source": [
    "def get_output_name(file):\n",
    "    line = os.path.basename(so6_file)\n",
    "    index = line.find(\".\")\n",
    "    output_line = line[:index] + \"_filtered\" + line[index:]\n",
    "    return output_line"
   ]
  },
  {
   "cell_type": "code",
   "execution_count": 6,
   "metadata": {},
   "outputs": [
    {
     "name": "stdout",
     "output_type": "stream",
     "text": [
      "Nb of trajs intersecting polygons: 669\n",
      "20200101_m3_filtered.so6 created\n",
      "Nb of trajs intersecting polygons: 909\n",
      "20200102_m3_filtered.so6 created\n"
     ]
    }
   ],
   "source": [
    "for so6_file in glob(so6_folder + \"*.so6\"):\n",
    "    filename = get_output_name(so6_file)\n",
    "    so6 = So6(so6_file)\n",
    "    so6.clip(polygons)\n",
    "    so6.export(filename)"
   ]
  }
 ],
 "metadata": {
  "kernelspec": {
   "display_name": "Python 3",
   "language": "python",
   "name": "python3"
  },
  "language_info": {
   "codemirror_mode": {
    "name": "ipython",
    "version": 3
   },
   "file_extension": ".py",
   "mimetype": "text/x-python",
   "name": "python",
   "nbconvert_exporter": "python",
   "pygments_lexer": "ipython3",
   "version": "3.7.4"
  }
 },
 "nbformat": 4,
 "nbformat_minor": 4
}
